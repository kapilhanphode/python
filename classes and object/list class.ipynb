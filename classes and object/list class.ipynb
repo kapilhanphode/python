{
 "cells": [
  {
   "cell_type": "markdown",
   "id": "eb625dc2",
   "metadata": {},
   "source": [
    "### Here I have create my own class list, where we can perform all the methods of list which we can perform with list datatype."
   ]
  },
  {
   "cell_type": "code",
   "execution_count": 1,
   "id": "e76be7ec",
   "metadata": {},
   "outputs": [],
   "source": [
    "class list:\n",
    "    def __init__(self,list):\n",
    "        self.list=list\n",
    "    def append(self,a):\n",
    "        self.list=self.list+[a]\n",
    "        return self.list\n",
    "    def clear(self):\n",
    "        return []\n",
    "    def copy(self):\n",
    "        list_copy=self.list[:]\n",
    "        return list_copy\n",
    "    def count(self,a):\n",
    "        count=0\n",
    "        for i in self.list:\n",
    "            if i==a:\n",
    "                count=count+1\n",
    "        return count\n",
    "    def extend(self,a):\n",
    "        for i in a:\n",
    "            self.list=self.list+[i]\n",
    "        return self.list\n",
    "    def index(self,a):\n",
    "        for index,value in enumerate(self.list):\n",
    "            if value==a:\n",
    "                return index\n",
    "                break\n",
    "    def insert(self,a,b):\n",
    "        self.list=self.list[:a]+[b]+self.list[a:]\n",
    "        return self.list\n",
    "    def pop(self,*arg):\n",
    "        if len(arg)==0:\n",
    "            print(self.list[-1])\n",
    "            self.list=self.list[:-1]\n",
    "        else:\n",
    "            a=arg[0]+1\n",
    "            b=self.list[:a]\n",
    "            c=b[-1]\n",
    "            self.list=self.list[:arg[0]]+self.list[a:]\n",
    "            return c\n",
    "    def remove(self,a):\n",
    "        for i,j in enumerate(self.list):\n",
    "            if j==a:\n",
    "                self.list = self.list[:i] + self.list[i+1:]\n",
    "                return self.list\n",
    "    def reverse(self):\n",
    "        a=self.list[::-1]\n",
    "        return a\n",
    "    def sort(self):\n",
    "        for i in range(len(self.list)):\n",
    "            for j in range(len(self.list) - 1):\n",
    "                if self.list[j] > self.list[j + 1]:\n",
    "                    self.list[j], self.list[j + 1] = self.list[j + 1], self.list[j]\n",
    "        return self.list"
   ]
  },
  {
   "cell_type": "code",
   "execution_count": 2,
   "id": "a41b0aad",
   "metadata": {},
   "outputs": [],
   "source": [
    "l=list([1, 2, 3, 4, 5, 11, 5, 22, 33, 44])"
   ]
  },
  {
   "cell_type": "code",
   "execution_count": 3,
   "id": "f9ee2c3f",
   "metadata": {},
   "outputs": [
    {
     "data": {
      "text/plain": [
       "[1, 2, 3, 4, 5, 11, 5, 22, 33, 44, 111]"
      ]
     },
     "execution_count": 3,
     "metadata": {},
     "output_type": "execute_result"
    }
   ],
   "source": [
    "l.append(111)"
   ]
  },
  {
   "cell_type": "code",
   "execution_count": 4,
   "id": "eafc5f1b",
   "metadata": {},
   "outputs": [],
   "source": [
    "l1=l.copy()"
   ]
  },
  {
   "cell_type": "code",
   "execution_count": 5,
   "id": "8d21eb17",
   "metadata": {},
   "outputs": [
    {
     "data": {
      "text/plain": [
       "[1, 2, 3, 4, 5, 11, 5, 22, 33, 44, 111]"
      ]
     },
     "execution_count": 5,
     "metadata": {},
     "output_type": "execute_result"
    }
   ],
   "source": [
    "l1"
   ]
  },
  {
   "cell_type": "code",
   "execution_count": 6,
   "id": "50d67456",
   "metadata": {},
   "outputs": [],
   "source": [
    "l1.append(555)"
   ]
  },
  {
   "cell_type": "code",
   "execution_count": 7,
   "id": "0224a53b",
   "metadata": {},
   "outputs": [
    {
     "data": {
      "text/plain": [
       "[1, 2, 3, 4, 5, 11, 5, 22, 33, 44, 111, 555]"
      ]
     },
     "execution_count": 7,
     "metadata": {},
     "output_type": "execute_result"
    }
   ],
   "source": [
    "l1"
   ]
  },
  {
   "cell_type": "code",
   "execution_count": 8,
   "id": "664ae4e3",
   "metadata": {},
   "outputs": [
    {
     "data": {
      "text/plain": [
       "2"
      ]
     },
     "execution_count": 8,
     "metadata": {},
     "output_type": "execute_result"
    }
   ],
   "source": [
    "l.count(5)"
   ]
  },
  {
   "cell_type": "code",
   "execution_count": 9,
   "id": "649edc59",
   "metadata": {},
   "outputs": [
    {
     "data": {
      "text/plain": [
       "[1, 2, 3, 4, 5, 11, 5, 22, 33, 44, 111, 11, 22, 33]"
      ]
     },
     "execution_count": 9,
     "metadata": {},
     "output_type": "execute_result"
    }
   ],
   "source": [
    "l.extend([11,22,33])"
   ]
  },
  {
   "cell_type": "code",
   "execution_count": 10,
   "id": "f5c2de79",
   "metadata": {},
   "outputs": [
    {
     "data": {
      "text/plain": [
       "2"
      ]
     },
     "execution_count": 10,
     "metadata": {},
     "output_type": "execute_result"
    }
   ],
   "source": [
    "l.index(3)"
   ]
  },
  {
   "cell_type": "code",
   "execution_count": 11,
   "id": "e22a575a",
   "metadata": {},
   "outputs": [
    {
     "data": {
      "text/plain": [
       "[333, 1, 2, 3, 4, 5, 11, 5, 22, 33, 44, 111, 11, 22, 33]"
      ]
     },
     "execution_count": 11,
     "metadata": {},
     "output_type": "execute_result"
    }
   ],
   "source": [
    "l.insert(0,333)"
   ]
  },
  {
   "cell_type": "code",
   "execution_count": 12,
   "id": "b6960b7c",
   "metadata": {
    "scrolled": true
   },
   "outputs": [
    {
     "name": "stdout",
     "output_type": "stream",
     "text": [
      "33\n"
     ]
    }
   ],
   "source": [
    "l.pop()"
   ]
  },
  {
   "cell_type": "code",
   "execution_count": 13,
   "id": "44c4bf64",
   "metadata": {},
   "outputs": [
    {
     "data": {
      "text/plain": [
       "[1, 2, 3, 4, 5, 11, 5, 22, 33, 44, 111, 11, 22]"
      ]
     },
     "execution_count": 13,
     "metadata": {},
     "output_type": "execute_result"
    }
   ],
   "source": [
    "l.remove(333)"
   ]
  },
  {
   "cell_type": "code",
   "execution_count": 14,
   "id": "1b58e7be",
   "metadata": {},
   "outputs": [
    {
     "data": {
      "text/plain": [
       "[22, 11, 111, 44, 33, 22, 5, 11, 5, 4, 3, 2, 1]"
      ]
     },
     "execution_count": 14,
     "metadata": {},
     "output_type": "execute_result"
    }
   ],
   "source": [
    "l.reverse()"
   ]
  },
  {
   "cell_type": "code",
   "execution_count": 15,
   "id": "6985ccb9",
   "metadata": {},
   "outputs": [
    {
     "data": {
      "text/plain": [
       "[1, 2, 3, 4, 5, 5, 11, 11, 22, 22, 33, 44, 111]"
      ]
     },
     "execution_count": 15,
     "metadata": {},
     "output_type": "execute_result"
    }
   ],
   "source": [
    "l.sort()"
   ]
  },
  {
   "cell_type": "code",
   "execution_count": 16,
   "id": "718c3a4d",
   "metadata": {},
   "outputs": [
    {
     "data": {
      "text/plain": [
       "[]"
      ]
     },
     "execution_count": 16,
     "metadata": {},
     "output_type": "execute_result"
    }
   ],
   "source": [
    "l.clear()"
   ]
  },
  {
   "cell_type": "code",
   "execution_count": null,
   "id": "897d992b",
   "metadata": {},
   "outputs": [],
   "source": []
  }
 ],
 "metadata": {
  "kernelspec": {
   "display_name": "Python 3 (ipykernel)",
   "language": "python",
   "name": "python3"
  },
  "language_info": {
   "codemirror_mode": {
    "name": "ipython",
    "version": 3
   },
   "file_extension": ".py",
   "mimetype": "text/x-python",
   "name": "python",
   "nbconvert_exporter": "python",
   "pygments_lexer": "ipython3",
   "version": "3.9.1"
  }
 },
 "nbformat": 4,
 "nbformat_minor": 5
}
