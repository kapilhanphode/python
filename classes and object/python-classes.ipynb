{
 "cells": [
  {
   "cell_type": "markdown",
   "id": "37e9db34",
   "metadata": {},
   "source": [
    "Q1.Write a function to gieve all the keys. <br>\n",
    "Q2.Write a function to give all the values. <br>\n",
    "Q3.Write a function to throw an exception in case of input is not dictionary. <br>\n",
    "Q4.Write a function to take user input and then parse a key and value out of dictionary. <br>\n",
    "Q5.Write a function to insert new key value pair into dictionary."
   ]
  },
  {
   "cell_type": "code",
   "execution_count": 14,
   "id": "1d7765fb",
   "metadata": {},
   "outputs": [],
   "source": [
    "class dictionary:\n",
    "    def __init__(self,dict):\n",
    "        self.dict=dict\n",
    "    def fun1(self):\n",
    "        for i in self.dict:\n",
    "            print(i)\n",
    "    def fun2(self):\n",
    "        for i in self.dict:\n",
    "            print(self.dict[i])\n",
    "    def fun3(self):\n",
    "        if type(self.dict)==dict:\n",
    "            print(self.dict)\n",
    "        else:\n",
    "            raise Exception('Not dictionary')\n",
    "    def fun4(self):\n",
    "        d={}\n",
    "        self.n=int(input('Enter number of key value pairs'))\n",
    "        for i in range(self.n):\n",
    "            self.key=input('enter key')\n",
    "            self.value=input('enter value')\n",
    "            d[self.key]=self.value\n",
    "        print(d)\n",
    "        for i in d:\n",
    "            print('key={} and value={}'.format(i,d[i]))\n",
    "    def fun5(self):\n",
    "        n=int(input('Enter number of key value to add into dictionary'))\n",
    "        for i in range(n):\n",
    "            key=input('key')\n",
    "            value=input('value')\n",
    "            self.dict[key]=value\n",
    "        print(self.dict)"
   ]
  },
  {
   "cell_type": "code",
   "execution_count": 15,
   "id": "f9b5ed6c",
   "metadata": {},
   "outputs": [],
   "source": [
    "d=dictionary({'abc':'pune','def':'nashik','ghi':'mumbai','jkl':'mh'})"
   ]
  },
  {
   "cell_type": "code",
   "execution_count": 16,
   "id": "c8e1048b",
   "metadata": {},
   "outputs": [
    {
     "name": "stdout",
     "output_type": "stream",
     "text": [
      "abc\n",
      "def\n",
      "ghi\n",
      "jkl\n"
     ]
    }
   ],
   "source": [
    "d.fun1()"
   ]
  },
  {
   "cell_type": "code",
   "execution_count": 17,
   "id": "a9e24dec",
   "metadata": {},
   "outputs": [
    {
     "name": "stdout",
     "output_type": "stream",
     "text": [
      "pune\n",
      "nashik\n",
      "mumbai\n",
      "mh\n"
     ]
    }
   ],
   "source": [
    "d.fun2()"
   ]
  },
  {
   "cell_type": "code",
   "execution_count": 18,
   "id": "76b81f51",
   "metadata": {
    "scrolled": true
   },
   "outputs": [
    {
     "name": "stdout",
     "output_type": "stream",
     "text": [
      "{'abc': 'pune', 'def': 'nashik', 'ghi': 'mumbai', 'jkl': 'mh'}\n"
     ]
    }
   ],
   "source": [
    "d.fun3()"
   ]
  },
  {
   "cell_type": "code",
   "execution_count": 19,
   "id": "c937bbc2",
   "metadata": {},
   "outputs": [
    {
     "ename": "Exception",
     "evalue": "Not dictionary",
     "output_type": "error",
     "traceback": [
      "\u001b[1;31m---------------------------------------------------------------------------\u001b[0m",
      "\u001b[1;31mException\u001b[0m                                 Traceback (most recent call last)",
      "\u001b[1;32m~\\AppData\\Local\\Temp/ipykernel_8272/1533288876.py\u001b[0m in \u001b[0;36m<module>\u001b[1;34m\u001b[0m\n\u001b[0;32m      1\u001b[0m \u001b[0md\u001b[0m\u001b[1;33m=\u001b[0m\u001b[0mdictionary\u001b[0m\u001b[1;33m(\u001b[0m\u001b[1;33m[\u001b[0m\u001b[1;36m1\u001b[0m\u001b[1;33m,\u001b[0m\u001b[1;36m2\u001b[0m\u001b[1;33m,\u001b[0m\u001b[1;36m3\u001b[0m\u001b[1;33m,\u001b[0m\u001b[1;36m4\u001b[0m\u001b[1;33m,\u001b[0m\u001b[1;36m5\u001b[0m\u001b[1;33m]\u001b[0m\u001b[1;33m)\u001b[0m\u001b[1;33m\u001b[0m\u001b[1;33m\u001b[0m\u001b[0m\n\u001b[1;32m----> 2\u001b[1;33m \u001b[0md\u001b[0m\u001b[1;33m.\u001b[0m\u001b[0mfun3\u001b[0m\u001b[1;33m(\u001b[0m\u001b[1;33m)\u001b[0m\u001b[1;33m\u001b[0m\u001b[1;33m\u001b[0m\u001b[0m\n\u001b[0m",
      "\u001b[1;32m~\\AppData\\Local\\Temp/ipykernel_8272/1088394245.py\u001b[0m in \u001b[0;36mfun3\u001b[1;34m(self)\u001b[0m\n\u001b[0;32m     12\u001b[0m             \u001b[0mprint\u001b[0m\u001b[1;33m(\u001b[0m\u001b[0mself\u001b[0m\u001b[1;33m.\u001b[0m\u001b[0mdict\u001b[0m\u001b[1;33m)\u001b[0m\u001b[1;33m\u001b[0m\u001b[1;33m\u001b[0m\u001b[0m\n\u001b[0;32m     13\u001b[0m         \u001b[1;32melse\u001b[0m\u001b[1;33m:\u001b[0m\u001b[1;33m\u001b[0m\u001b[1;33m\u001b[0m\u001b[0m\n\u001b[1;32m---> 14\u001b[1;33m             \u001b[1;32mraise\u001b[0m \u001b[0mException\u001b[0m\u001b[1;33m(\u001b[0m\u001b[1;34m'Not dictionary'\u001b[0m\u001b[1;33m)\u001b[0m\u001b[1;33m\u001b[0m\u001b[1;33m\u001b[0m\u001b[0m\n\u001b[0m\u001b[0;32m     15\u001b[0m     \u001b[1;32mdef\u001b[0m \u001b[0mfun4\u001b[0m\u001b[1;33m(\u001b[0m\u001b[0mself\u001b[0m\u001b[1;33m)\u001b[0m\u001b[1;33m:\u001b[0m\u001b[1;33m\u001b[0m\u001b[1;33m\u001b[0m\u001b[0m\n\u001b[0;32m     16\u001b[0m         \u001b[0md\u001b[0m\u001b[1;33m=\u001b[0m\u001b[1;33m{\u001b[0m\u001b[1;33m}\u001b[0m\u001b[1;33m\u001b[0m\u001b[1;33m\u001b[0m\u001b[0m\n",
      "\u001b[1;31mException\u001b[0m: Not dictionary"
     ]
    }
   ],
   "source": [
    "d=dictionary([1,2,3,4,5])\n",
    "d.fun3()"
   ]
  },
  {
   "cell_type": "code",
   "execution_count": 20,
   "id": "03dc354a",
   "metadata": {
    "scrolled": true
   },
   "outputs": [
    {
     "name": "stdout",
     "output_type": "stream",
     "text": [
      "Enter number of key value pairs2\n",
      "enter keycity\n",
      "enter valuenashik\n",
      "enter keycountry\n",
      "enter valueindia\n",
      "{'city': 'nashik', 'country': 'india'}\n",
      "key=city and value=nashik\n",
      "key=country and value=india\n"
     ]
    }
   ],
   "source": [
    "d=dictionary({'abc':'pune','def':'nashik','ghi':'mumbai','jkl':'mh'})\n",
    "d.fun4()"
   ]
  },
  {
   "cell_type": "code",
   "execution_count": 21,
   "id": "0a1a776d",
   "metadata": {},
   "outputs": [
    {
     "name": "stdout",
     "output_type": "stream",
     "text": [
      "Enter number of key value to add into dictionary2\n",
      "keycity\n",
      "valuenashik\n",
      "keycountry\n",
      "valueindia\n",
      "{'abc': 'pune', 'def': 'nashik', 'ghi': 'mumbai', 'jkl': 'mh', 'city': 'nashik', 'country': 'india'}\n"
     ]
    }
   ],
   "source": [
    "d.fun5()"
   ]
  },
  {
   "cell_type": "code",
   "execution_count": null,
   "id": "22426b77",
   "metadata": {},
   "outputs": [],
   "source": []
  },
  {
   "cell_type": "code",
   "execution_count": null,
   "id": "8579ced0",
   "metadata": {},
   "outputs": [],
   "source": []
  }
 ],
 "metadata": {
  "kernelspec": {
   "display_name": "Python 3 (ipykernel)",
   "language": "python",
   "name": "python3"
  },
  "language_info": {
   "codemirror_mode": {
    "name": "ipython",
    "version": 3
   },
   "file_extension": ".py",
   "mimetype": "text/x-python",
   "name": "python",
   "nbconvert_exporter": "python",
   "pygments_lexer": "ipython3",
   "version": "3.9.1"
  }
 },
 "nbformat": 4,
 "nbformat_minor": 5
}
