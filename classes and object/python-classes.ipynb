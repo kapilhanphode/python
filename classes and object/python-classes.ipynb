Q1.
{
 "cells": [
  {
   "cell_type": "code",
   "execution_count": 1,
   "id": "1d7765fb",
   "metadata": {},
   "outputs": [],
   "source": [
    "class dictionary:\n",
    "    def __init__(self,dict):\n",
    "        self.dict=dict\n",
    "    def fun1(self):\n",
    "        for i in self.dict:\n",
    "            print(i)\n",
    "    def fun2(self):\n",
    "        for i in self.dict:\n",
    "            print(self.dict[i])\n",
    "    def fun3(self):\n",
    "        if type(self.dict)==dict:\n",
    "            print(self.dict,'yes dictionary')\n",
    "        else:\n",
    "            print(self.dict,'not dictionary')\n",
    "    def fun4(self):\n",
    "        d={}\n",
    "        self.n=int(input('Enter number of key value pairs'))\n",
    "        for i in range(self.n):\n",
    "            self.key=input('enter key')\n",
    "            self.value=input('enter value')\n",
    "            d[self.key]=self.value\n",
    "        print(d)\n",
    "        for i in d:\n",
    "            print('key={} and value={}'.format(i,d[i]))\n",
    "    def fun5(self):\n",
    "        n=int(input('Enter number of key value to add into dictionary'))\n",
    "        for i in range(n):\n",
    "            key=input('key')\n",
    "            value=input('value')\n",
    "            self.dict[key]=value\n",
    "        print(self.dict)"
   ]
  },
  {
   "cell_type": "code",
   "execution_count": 2,
   "id": "f9b5ed6c",
   "metadata": {},
   "outputs": [],
   "source": [
    "d=dictionary({'abc':'pune','def':'nashik','ghi':'mumbai','jkl':'mh'})"
   ]
  },
  {
   "cell_type": "code",
   "execution_count": 4,
   "id": "c8e1048b",
   "metadata": {},
   "outputs": [
    {
     "name": "stdout",
     "output_type": "stream",
     "text": [
      "abc\n",
      "def\n",
      "ghi\n",
      "jkl\n"
     ]
    }
   ],
   "source": [
    "d.fun1()"
   ]
  },
  {
   "cell_type": "code",
   "execution_count": 5,
   "id": "a9e24dec",
   "metadata": {},
   "outputs": [
    {
     "name": "stdout",
     "output_type": "stream",
     "text": [
      "pune\n",
      "nashik\n",
      "mumbai\n",
      "mh\n"
     ]
    }
   ],
   "source": [
    "d.fun2()"
   ]
  },
  {
   "cell_type": "code",
   "execution_count": 6,
   "id": "76b81f51",
   "metadata": {},
   "outputs": [
    {
     "name": "stdout",
     "output_type": "stream",
     "text": [
      "{'abc': 'pune', 'def': 'nashik', 'ghi': 'mumbai', 'jkl': 'mh'} yes dictionary\n"
     ]
    }
   ],
   "source": [
    "d.fun3()"
   ]
  },
  {
   "cell_type": "code",
   "execution_count": 7,
   "id": "03dc354a",
   "metadata": {},
   "outputs": [
    {
     "name": "stdout",
     "output_type": "stream",
     "text": [
      "Enter number of key value pairs2\n",
      "enter keycity\n",
      "enter valuenashik\n",
      "enter keycountry\n",
      "enter valueindia\n",
      "{'city': 'nashik', 'country': 'india'}\n",
      "key=city and value=nashik\n",
      "key=country and value=india\n"
     ]
    }
   ],
   "source": [
    "d.fun4()"
   ]
  },
  {
   "cell_type": "code",
   "execution_count": 8,
   "id": "0a1a776d",
   "metadata": {},
   "outputs": [
    {
     "name": "stdout",
     "output_type": "stream",
     "text": [
      "Enter number of key value to add into dictionary2\n",
      "keylmn\n",
      "valuenashik\n",
      "keyopq\n",
      "valueswarajya\n",
      "{'abc': 'pune', 'def': 'nashik', 'ghi': 'mumbai', 'jkl': 'mh', 'lmn': 'nashik', 'opq': 'swarajya'}\n"
     ]
    }
   ],
   "source": [
    "d.fun5()"
   ]
  },
  {
   "cell_type": "code",
   "execution_count": null,
   "id": "22426b77",
   "metadata": {},
   "outputs": [],
   "source": []
  }
 ],
 "metadata": {
  "kernelspec": {
   "display_name": "Python 3 (ipykernel)",
   "language": "python",
   "name": "python3"
  },
  "language_info": {
   "codemirror_mode": {
    "name": "ipython",
    "version": 3
   },
   "file_extension": ".py",
   "mimetype": "text/x-python",
   "name": "python",
   "nbconvert_exporter": "python",
   "pygments_lexer": "ipython3",
   "version": "3.9.1"
  }
 },
 "nbformat": 4,
 "nbformat_minor": 5
}
