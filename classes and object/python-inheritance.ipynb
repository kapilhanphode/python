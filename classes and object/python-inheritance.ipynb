{
 "cells": [
  {
   "cell_type": "markdown",
   "id": "46405cc7",
   "metadata": {},
   "source": [
    "## Inheritance"
   ]
  },
  {
   "cell_type": "markdown",
   "id": "6647d080",
   "metadata": {},
   "source": [
    "The process of inheriting the properties of the parent class into a child class is called inheritance. The existing class is called a base class or parent class and the new class is called a subclass or child class or derived class."
   ]
  },
  {
   "cell_type": "markdown",
   "id": "d03a07bf",
   "metadata": {},
   "source": [
    "### single inheritance"
   ]
  },
  {
   "cell_type": "code",
   "execution_count": 1,
   "id": "f2e222fa",
   "metadata": {},
   "outputs": [],
   "source": [
    "class parent:\n",
    "    def __init__(self,a,b,c):\n",
    "        self.a=a\n",
    "        self.b=b\n",
    "        self.c=c\n",
    "    def fun1(self):\n",
    "        return 'this is test function of xyz class'\n",
    "class child(parent):\n",
    "    def fun2(self):\n",
    "        return 'this is test1 function of xyz1 class'"
   ]
  },
  {
   "cell_type": "code",
   "execution_count": 2,
   "id": "761298a5",
   "metadata": {},
   "outputs": [],
   "source": [
    "obj=child(11,22,33)"
   ]
  },
  {
   "cell_type": "code",
   "execution_count": 3,
   "id": "db42abfa",
   "metadata": {},
   "outputs": [
    {
     "data": {
      "text/plain": [
       "'this is test function of xyz class'"
      ]
     },
     "execution_count": 3,
     "metadata": {},
     "output_type": "execute_result"
    }
   ],
   "source": [
    "obj.fun1()"
   ]
  },
  {
   "cell_type": "code",
   "execution_count": 4,
   "id": "7174e1b7",
   "metadata": {},
   "outputs": [
    {
     "data": {
      "text/plain": [
       "'this is test1 function of xyz1 class'"
      ]
     },
     "execution_count": 4,
     "metadata": {},
     "output_type": "execute_result"
    }
   ],
   "source": [
    "obj.fun2()"
   ]
  },
  {
   "cell_type": "markdown",
   "id": "5bb8d768",
   "metadata": {},
   "source": [
    "### multiple inheritance"
   ]
  },
  {
   "cell_type": "code",
   "execution_count": 5,
   "id": "9c6359ba",
   "metadata": {},
   "outputs": [],
   "source": [
    "class mother:\n",
    "    def __init__(self,a,b,c):\n",
    "        self.a=a\n",
    "        self.b=b\n",
    "        self.c=c\n",
    "    def fun1(self):\n",
    "        return 'this is fun1 function of mother class'\n",
    "class father:\n",
    "    def __init__(self,p,q,r):\n",
    "        self.p=p\n",
    "        self.q=q\n",
    "        self.r=r\n",
    "    def fun2(self):\n",
    "        return 'this is fun2 function of father class'\n",
    "class child(mother,father):\n",
    "    def __init__(self,*args,p,q,r):\n",
    "        mother.__init__(self,*args)\n",
    "        father.__init__(self,p,q,r)"
   ]
  },
  {
   "cell_type": "code",
   "execution_count": 6,
   "id": "32d1e759",
   "metadata": {},
   "outputs": [],
   "source": [
    "obj=child(1,2,3,p=4,q=5,r=6)"
   ]
  },
  {
   "cell_type": "code",
   "execution_count": 7,
   "id": "189e2967",
   "metadata": {},
   "outputs": [
    {
     "data": {
      "text/plain": [
       "1"
      ]
     },
     "execution_count": 7,
     "metadata": {},
     "output_type": "execute_result"
    }
   ],
   "source": [
    "obj.a"
   ]
  },
  {
   "cell_type": "code",
   "execution_count": 8,
   "id": "9216509f",
   "metadata": {},
   "outputs": [
    {
     "data": {
      "text/plain": [
       "4"
      ]
     },
     "execution_count": 8,
     "metadata": {},
     "output_type": "execute_result"
    }
   ],
   "source": [
    "obj.p"
   ]
  },
  {
   "cell_type": "code",
   "execution_count": 9,
   "id": "34306ea9",
   "metadata": {},
   "outputs": [
    {
     "data": {
      "text/plain": [
       "'this is fun1 function of mother class'"
      ]
     },
     "execution_count": 9,
     "metadata": {},
     "output_type": "execute_result"
    }
   ],
   "source": [
    "obj.fun1()"
   ]
  },
  {
   "cell_type": "code",
   "execution_count": 10,
   "id": "a2c853f6",
   "metadata": {},
   "outputs": [
    {
     "data": {
      "text/plain": [
       "'this is fun2 function of father class'"
      ]
     },
     "execution_count": 10,
     "metadata": {},
     "output_type": "execute_result"
    }
   ],
   "source": [
    "obj.fun2()"
   ]
  },
  {
   "cell_type": "markdown",
   "id": "cbd7f52c",
   "metadata": {},
   "source": [
    "### multilevel"
   ]
  },
  {
   "cell_type": "code",
   "execution_count": 11,
   "id": "b2514027",
   "metadata": {},
   "outputs": [],
   "source": [
    "class grandfather:\n",
    "    def __init__(self,a,b,c):\n",
    "        self.a=a\n",
    "        self.b=b\n",
    "        self.c=c\n",
    "    def fun1(self):\n",
    "        return 'this is fun1 function of grandfather class'\n",
    "class father(grandfather):\n",
    "    def fun2(self):\n",
    "        return 'this is fun2 function of father class'\n",
    "class son(father):\n",
    "    def fun3(self):\n",
    "        return 'this is fun3 function of son class'"
   ]
  },
  {
   "cell_type": "code",
   "execution_count": 12,
   "id": "515cb634",
   "metadata": {},
   "outputs": [],
   "source": [
    "obj=son(1,2,3)"
   ]
  },
  {
   "cell_type": "code",
   "execution_count": 13,
   "id": "b04a22d8",
   "metadata": {},
   "outputs": [
    {
     "data": {
      "text/plain": [
       "1"
      ]
     },
     "execution_count": 13,
     "metadata": {},
     "output_type": "execute_result"
    }
   ],
   "source": [
    "obj.a"
   ]
  },
  {
   "cell_type": "code",
   "execution_count": 14,
   "id": "6349ce1b",
   "metadata": {},
   "outputs": [
    {
     "data": {
      "text/plain": [
       "'this is fun1 function of grandfather class'"
      ]
     },
     "execution_count": 14,
     "metadata": {},
     "output_type": "execute_result"
    }
   ],
   "source": [
    "obj.fun1()"
   ]
  },
  {
   "cell_type": "code",
   "execution_count": 15,
   "id": "b5bf73e2",
   "metadata": {},
   "outputs": [
    {
     "data": {
      "text/plain": [
       "'this is fun2 function of father class'"
      ]
     },
     "execution_count": 15,
     "metadata": {},
     "output_type": "execute_result"
    }
   ],
   "source": [
    "obj.fun2()"
   ]
  },
  {
   "cell_type": "code",
   "execution_count": 16,
   "id": "2ad09a69",
   "metadata": {},
   "outputs": [
    {
     "data": {
      "text/plain": [
       "'this is fun3 function of son class'"
      ]
     },
     "execution_count": 16,
     "metadata": {},
     "output_type": "execute_result"
    }
   ],
   "source": [
    "obj.fun3()"
   ]
  },
  {
   "cell_type": "markdown",
   "id": "24c5fd52",
   "metadata": {},
   "source": [
    "### hierarchical inheritance"
   ]
  },
  {
   "cell_type": "code",
   "execution_count": 17,
   "id": "86a2da17",
   "metadata": {},
   "outputs": [],
   "source": [
    "class parent:\n",
    "    def fun1(self):\n",
    "        return 'this is fun1 function from class parent'\n",
    "class child1(parent):\n",
    "    def fun2(self):\n",
    "        return 'this is fun2 function from class child1'\n",
    "class child2(parent):\n",
    "    def fun3(self):\n",
    "        return 'this ids fun3 function from class child2'"
   ]
  },
  {
   "cell_type": "code",
   "execution_count": 18,
   "id": "065f6f04",
   "metadata": {},
   "outputs": [],
   "source": [
    "obj1=child1()"
   ]
  },
  {
   "cell_type": "code",
   "execution_count": 19,
   "id": "d44ce692",
   "metadata": {},
   "outputs": [],
   "source": [
    "obj2=child2()"
   ]
  },
  {
   "cell_type": "code",
   "execution_count": 20,
   "id": "5eb12bdd",
   "metadata": {},
   "outputs": [
    {
     "data": {
      "text/plain": [
       "'this is fun1 function from class parent'"
      ]
     },
     "execution_count": 20,
     "metadata": {},
     "output_type": "execute_result"
    }
   ],
   "source": [
    "obj1.fun1()"
   ]
  },
  {
   "cell_type": "code",
   "execution_count": 21,
   "id": "798db07a",
   "metadata": {},
   "outputs": [
    {
     "data": {
      "text/plain": [
       "'this is fun2 function from class child1'"
      ]
     },
     "execution_count": 21,
     "metadata": {},
     "output_type": "execute_result"
    }
   ],
   "source": [
    "obj1.fun2()"
   ]
  },
  {
   "cell_type": "code",
   "execution_count": 22,
   "id": "45150920",
   "metadata": {},
   "outputs": [
    {
     "data": {
      "text/plain": [
       "'this is fun1 function from class parent'"
      ]
     },
     "execution_count": 22,
     "metadata": {},
     "output_type": "execute_result"
    }
   ],
   "source": [
    "obj2.fun1()"
   ]
  },
  {
   "cell_type": "code",
   "execution_count": 23,
   "id": "937ce72d",
   "metadata": {},
   "outputs": [
    {
     "data": {
      "text/plain": [
       "'this ids fun3 function from class child2'"
      ]
     },
     "execution_count": 23,
     "metadata": {},
     "output_type": "execute_result"
    }
   ],
   "source": [
    "obj2.fun3()"
   ]
  },
  {
   "cell_type": "code",
   "execution_count": null,
   "id": "9ad8f0ca",
   "metadata": {},
   "outputs": [],
   "source": []
  },
  {
   "cell_type": "code",
   "execution_count": null,
   "id": "4d669c7d",
   "metadata": {},
   "outputs": [],
   "source": []
  }
 ],
 "metadata": {
  "kernelspec": {
   "display_name": "Python 3 (ipykernel)",
   "language": "python",
   "name": "python3"
  },
  "language_info": {
   "codemirror_mode": {
    "name": "ipython",
    "version": 3
   },
   "file_extension": ".py",
   "mimetype": "text/x-python",
   "name": "python",
   "nbconvert_exporter": "python",
   "pygments_lexer": "ipython3",
   "version": "3.9.1"
  }
 },
 "nbformat": 4,
 "nbformat_minor": 5
}
