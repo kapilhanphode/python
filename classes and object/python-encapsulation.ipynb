{
 "cells": [
  {
   "cell_type": "markdown",
   "id": "2d78e56b",
   "metadata": {},
   "source": [
    "# Encapsulation"
   ]
  },
  {
   "cell_type": "markdown",
   "id": "8720344c",
   "metadata": {},
   "source": [
    "Encapsulation in Python describes the concept of bundling data and methods within a single unit. So, for example, when you create a class, it means you are implementing encapsulation. A class is an example of encapsulation as it binds all the data members (instance variables) and methods into a single unit."
   ]
  },
  {
   "cell_type": "markdown",
   "id": "bd87fbe1",
   "metadata": {},
   "source": [
    "## public"
   ]
  },
  {
   "cell_type": "code",
   "execution_count": 1,
   "id": "be730899",
   "metadata": {},
   "outputs": [
    {
     "name": "stdout",
     "output_type": "stream",
     "text": [
      "Name:  abc\n",
      "Age:  20\n"
     ]
    }
   ],
   "source": [
    "class parent:\n",
    "      \n",
    "     # constructor\n",
    "    def __init__(self, name, age):\n",
    "           \n",
    "           # public data members\n",
    "           self.Name = name\n",
    "           self.Age = age\n",
    " \n",
    "     # public member function     \n",
    "    def displayAge(self):\n",
    "           \n",
    "           # accessing public data member\n",
    "        print(\"Age: \", self.Age)\n",
    " \n",
    "# creating object of the class\n",
    "obj = parent(\"abc\", 20)\n",
    " \n",
    "# accessing public data member\n",
    "print(\"Name: \", obj.Name)\n",
    " \n",
    "# calling public member function of the class\n",
    "obj.displayAge()"
   ]
  },
  {
   "cell_type": "markdown",
   "id": "634df258",
   "metadata": {},
   "source": [
    "## protected"
   ]
  },
  {
   "cell_type": "code",
   "execution_count": 2,
   "id": "8d592f61",
   "metadata": {},
   "outputs": [
    {
     "name": "stdout",
     "output_type": "stream",
     "text": [
      "Name:  abc\n",
      "Roll:  1706256\n",
      "Branch:  Computer Science\n"
     ]
    }
   ],
   "source": [
    "class Student:\n",
    "    # constructor\n",
    "    def __init__(self, name, roll, branch):\n",
    "        self._name = name\n",
    "        self._roll = roll\n",
    "        self._branch = branch\n",
    "\n",
    "    # protected member function\n",
    "    def _displayRollAndBranch(self):\n",
    "        # accessing protected data members\n",
    "        print(\"Roll: \", self._roll)\n",
    "        print(\"Branch: \", self._branch)\n",
    "\n",
    "\n",
    "# derived class\n",
    "class Student1(Student):\n",
    "\n",
    "    # constructor\n",
    "    def __init__(self, name, roll, branch):\n",
    "        Student.__init__(self, name, roll, branch)\n",
    "\n",
    "    # public member function\n",
    "    def displayDetails(self):\n",
    "        # accessing protected data members of super class\n",
    "        print(\"Name: \", self._name)\n",
    "\n",
    "        # accessing protected member functions of super class\n",
    "        self._displayRollAndBranch()\n",
    "\n",
    "\n",
    "# creating objects of the derived class\n",
    "obj = Student1(\"abc\", 1706256, \"Computer Science\")\n",
    "\n",
    "# calling public member functions of the class\n",
    "obj.displayDetails()"
   ]
  },
  {
   "cell_type": "markdown",
   "id": "02610629",
   "metadata": {},
   "source": [
    "## private"
   ]
  },
  {
   "cell_type": "code",
   "execution_count": 3,
   "id": "2df61a26",
   "metadata": {},
   "outputs": [
    {
     "name": "stdout",
     "output_type": "stream",
     "text": [
      "Name abc\n",
      "Name:  abc\n",
      "Roll:  101\n",
      "Branch:  conputer science\n"
     ]
    }
   ],
   "source": [
    "class test1:\n",
    "     # constructor\n",
    "    def __init__(self, name, roll, branch): \n",
    "        self.__name = name\n",
    "        self.__roll = roll\n",
    "        self.__branch = branch\n",
    " \n",
    "     # private member function \n",
    "    def __displayDetails(self):\n",
    "           \n",
    "           # accessing private data members\n",
    "        print(\"Name: \", self.__name)\n",
    "        print(\"Roll: \", self.__roll)\n",
    "        print(\"Branch: \", self.__branch)\n",
    "    \n",
    "     # public member function\n",
    "    def accessPrivateFunction(self):\n",
    "            \n",
    "           # accessing private member function\n",
    "        self.__displayDetails() \n",
    "class test2(test1):\n",
    "    def __init__(self,name,roll,branch):\n",
    "        test1.__init__(self,name,roll,branch)\n",
    "    def details(self):\n",
    "        print('Name',self._test1__name)\n",
    "        self._test1__displayDetails()\n",
    " \n",
    "# creating object   \n",
    "obj1=test2('abc',101,'conputer science')\n",
    "obj1.details()"
   ]
  },
  {
   "cell_type": "code",
   "execution_count": null,
   "id": "955b8887",
   "metadata": {},
   "outputs": [],
   "source": []
  },
  {
   "cell_type": "code",
   "execution_count": null,
   "id": "903e72c6",
   "metadata": {},
   "outputs": [],
   "source": []
  }
 ],
 "metadata": {
  "kernelspec": {
   "display_name": "Python 3 (ipykernel)",
   "language": "python",
   "name": "python3"
  },
  "language_info": {
   "codemirror_mode": {
    "name": "ipython",
    "version": 3
   },
   "file_extension": ".py",
   "mimetype": "text/x-python",
   "name": "python",
   "nbconvert_exporter": "python",
   "pygments_lexer": "ipython3",
   "version": "3.9.1"
  }
 },
 "nbformat": 4,
 "nbformat_minor": 5
}
